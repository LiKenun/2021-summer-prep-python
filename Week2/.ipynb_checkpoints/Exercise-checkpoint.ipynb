{
 "cells": [
  {
   "cell_type": "markdown",
   "metadata": {},
   "source": [
    "# Problem 1: Write a function thats input is a number and output is:\n",
    "* Return True if the input number is even.\n",
    "* Return False if the input number is odd."
   ]
  },
  {
   "cell_type": "code",
<<<<<<< HEAD
   "execution_count": 1,
   "metadata": {},
   "outputs": [],
   "source": [
    "# Solve problem 1 here\n",
    "def is_even(n):\n",
    "    return n % 2 == 0"
=======
   "execution_count": null,
   "metadata": {},
   "outputs": [],
   "source": [
    "# Solve problem 1 here\n"
>>>>>>> upstream/master
   ]
  },
  {
   "cell_type": "markdown",
   "metadata": {},
   "source": [
    "# Problem 2: Find the sum and the average of this list of numbers.\n",
    "\n",
    "Try doing this using a loop.  Then try doing this without using a loop. "
   ]
  },
  {
   "cell_type": "code",
<<<<<<< HEAD
   "execution_count": 2,
   "metadata": {},
   "outputs": [
    {
     "name": "stdout",
     "output_type": "stream",
     "text": [
      "353 35.3\n"
     ]
    }
   ],
=======
   "execution_count": null,
   "metadata": {},
   "outputs": [],
>>>>>>> upstream/master
   "source": [
    "# Solve problem 2 here:\n",
    "\n",
    "my_list = [1, 5, 10, 55, 88, 44, 42, 50, 20, 38]\n",
<<<<<<< HEAD
    "list_sum = 0\n",
    "#for n in my_list:\n",
    "#    list_sum += n\n",
    "list_sum = sum(my_list)\n",
    "list_average = list_sum / len(my_list)\n",
=======
    "list_sum = ???\n",
    "list_avg = ???\n",
>>>>>>> upstream/master
    "\n",
    "\n",
    "# Keep this as your last line in this cell.\n",
    "print(list_sum, list_average)"
   ]
  },
  {
   "cell_type": "markdown",
   "metadata": {},
   "source": [
    "# Problem 3:  Using a dictionary, count the words in this sentence. \n",
    "* Hint, you can use `.split()` to split a string into a list. \n"
   ]
  },
  {
   "cell_type": "code",
<<<<<<< HEAD
   "execution_count": 3,
   "metadata": {},
   "outputs": [
    {
     "name": "stdout",
     "output_type": "stream",
     "text": [
      "5 × the\n",
      "4 × oklahoma\n",
      "2 × city\n",
      "4 × zoo\n",
      "6 × and\n",
      "2 × botanical\n",
      "2 × garden\n",
      "4 × is\n",
      "1 × a\n",
      "1 × located\n",
      "2 × in\n",
      "1 × city's\n",
      "1 × adventure\n",
      "1 × district\n",
      "1 × northeast\n",
      "1 × city,\n",
      "1 × oklahoma.\n",
      "1 × covers\n",
      "1 × 119\n",
      "1 × acres\n",
      "1 × (48\n",
      "1 × ha)\n",
      "1 × home\n",
      "1 × to\n",
      "1 × more\n",
      "1 × than\n",
      "1 × 1,900\n",
      "1 × animals.\n",
      "1 × it\n",
      "1 × open\n",
      "1 × every\n",
      "1 × day\n",
      "1 × except\n",
      "1 × thanksgiving,\n",
      "1 × christmas,\n",
      "1 × new\n",
      "1 × year's\n",
      "1 × day.\n",
      "1 × an\n",
      "1 × accredited\n",
      "1 × member\n",
      "3 × of\n",
      "1 × association\n",
      "1 × zoos\n",
      "1 × aquariums\n",
      "1 × american\n",
      "1 × alliance\n",
      "1 × museums.\n"
     ]
    }
   ],
   "source": [
    "# Solve problem 3 here:\n",
    "\n",
    "my_string = '''The Oklahoma City Zoo and Botanical Garden is a zoo and botanical garden located in Oklahoma City's Adventure District in northeast Oklahoma City, Oklahoma. The zoo covers 119 acres (48 ha) and is home to more than 1,900 animals. It is open every day except Thanksgiving, Christmas, and New Year's Day. The Oklahoma City Zoo is an accredited member of the Association of Zoos and Aquariums and the American Alliance of Museums.'''\n",
    "word_counts = {}\n",
    "for word in my_string.split():\n",
    "    cleaned_word = word.lower() # Ideally, we also strip the punctuations and do some more work to get the “dictionary” form of the word.\n",
    "    word_counts[cleaned_word] = word_counts.get(cleaned_word, 0) + 1\n",
    "\n",
    "for word, count in word_counts.items():\n",
    "    print(f'{count} × {word}')"
=======
   "execution_count": null,
   "metadata": {},
   "outputs": [],
   "source": [
    "# Solve problem 3 here:\n",
    "\n",
    "my_string = '''The Oklahoma City Zoo and Botanical Garden is a zoo and botanical garden located in Oklahoma City's Adventure District in northeast Oklahoma City, Oklahoma. The zoo covers 119 acres (48 ha) and is home to more than 1,900 animals. It is open every day except Thanksgiving, Christmas, and New Year's Day. The Oklahoma City Zoo is an accredited member of the Association of Zoos and Aquariums and the American Alliance of Museums.'''"
>>>>>>> upstream/master
   ]
  },
  {
   "cell_type": "markdown",
   "metadata": {},
   "source": [
    "# Problem 4: Write a function that input is a number and output returns the following\n",
    "* If the input is divisible by three, return 'fizz'\n",
    "* If the input is divisible by five, return 'buzz'\n",
    "* If the input is divisible by three and by five, return 'fizzbuzz'\n",
    "* If the input is not divisible by three or five, return None."
   ]
  },
  {
   "cell_type": "code",
<<<<<<< HEAD
   "execution_count": 4,
   "metadata": {},
   "outputs": [],
   "source": [
    "# Solve Problem 4 here:\n",
    "def fizz_or_buzz(value):\n",
    "    if value % 3 == 0:\n",
    "        if value % 5 == 0:\n",
    "            return 'fizzbuzz'\n",
    "        else:\n",
    "            return 'fizz'\n",
    "    elif value % 5 == 0:\n",
    "        return 'buzz'"
=======
   "execution_count": null,
   "metadata": {},
   "outputs": [],
   "source": [
    "# Solve Problem 4 here:\n"
>>>>>>> upstream/master
   ]
  },
  {
   "cell_type": "markdown",
   "metadata": {},
   "source": [
    "# Problem 5: \n",
    "Write a function that takes a list and returns a new list that contains all the elements of the first list minus all the duplicates.\n",
    "\n",
    "Example input and expected output\n",
    "\n",
    "input = [\"Michele\", \"Robin\", \"Sara\", \"Michele\"]\n",
    "\n",
    "expected output = ['Michele', 'Robin', 'Sara']\n"
   ]
  },
  {
   "cell_type": "code",
<<<<<<< HEAD
   "execution_count": 5,
   "metadata": {},
   "outputs": [
    {
     "data": {
      "text/plain": [
       "['Michele', 'Robin', 'Sara']"
      ]
     },
     "execution_count": 5,
     "metadata": {},
     "output_type": "execute_result"
    }
   ],
   "source": [
    "# Solve problem 5 here:\n",
    "\n",
    "names = [\"Michele\", \"Robin\", \"Sara\", \"Michele\"]\n",
    "\n",
    "def dedup_list(l):\n",
    "    new_list = []\n",
    "    for i in l: # This is actually a very naïve way to do it as the performance will drop like a rock on larger lists.\n",
    "        if not i in new_list:\n",
    "            new_list.append(i)\n",
    "    return new_list\n",
    "\n",
    "dedup_list(names)"
=======
   "execution_count": null,
   "metadata": {},
   "outputs": [],
   "source": [
    "# Solve problem 5 here:\n",
    "\n",
    "names = [\"Michele\", \"Robin\", \"Sara\", \"Michele\"]\n"
>>>>>>> upstream/master
   ]
  },
  {
   "cell_type": "markdown",
   "metadata": {},
   "source": [
    "# Problem 6: \n",
    "Write a function that takes a list of numbers (for example, a = [5, 10, 15, 20, 25]) and returns a new list of only the first and last elements of the given list.\n",
    "\n",
    "Example input and expected output:\n",
    "\n",
    "input = [5, 10, 15, 20, 25]\n",
    "\n",
    "expected output = [5, 25]"
   ]
  },
  {
   "cell_type": "code",
<<<<<<< HEAD
   "execution_count": 6,
   "metadata": {},
   "outputs": [
    {
     "data": {
      "text/plain": [
       "[5, 25]"
      ]
     },
     "execution_count": 6,
     "metadata": {},
     "output_type": "execute_result"
    }
   ],
=======
   "execution_count": null,
   "metadata": {},
   "outputs": [],
>>>>>>> upstream/master
   "source": [
    "# Solve problem 6 here:\n",
    "\n",
    "input_list = [5, 10, 99, 20, 25]\n",
<<<<<<< HEAD
    "\n",
    "def get_ends(l):\n",
    "    if len(l) == 0: # Handles the empty list case\n",
    "        return []\n",
    "    return [l[0], l[-1]]\n",
    "\n",
    "get_ends(input_list)"
=======
    "\n"
>>>>>>> upstream/master
   ]
  },
  {
   "cell_type": "markdown",
   "metadata": {},
   "source": [
    "# Problem 7:  Implement a function that takes as input three variables, and returns the largest of the three. \n",
    "Do this without using the Python max() function! \n",
    "_*Note all three input numbers will always be different, no need to account for a tie._\n",
    "\n",
    "Example input and expected output:\n",
    "\n",
    "input = your_function(1, 5, 10)\n",
    "\n",
    "expected output:  10"
   ]
  },
  {
   "cell_type": "code",
<<<<<<< HEAD
   "execution_count": 7,
=======
   "execution_count": null,
>>>>>>> upstream/master
   "metadata": {},
   "outputs": [],
   "source": [
    "# Solve Problem 7 here:\n",
    "\n",
    "def your_function(a, b, c):\n",
<<<<<<< HEAD
    "    if b > a:\n",
    "        if c > b:\n",
    "            return c\n",
    "        return b\n",
    "    if c > a:\n",
    "        return c\n",
    "    return a"
=======
    "    # Fill in your code below and return max value of a, b, c\n",
    "    "
>>>>>>> upstream/master
   ]
  },
  {
   "cell_type": "code",
<<<<<<< HEAD
   "execution_count": 8,
   "metadata": {},
   "outputs": [
    {
     "data": {
      "text/plain": [
       "10"
      ]
     },
     "execution_count": 8,
     "metadata": {},
     "output_type": "execute_result"
    }
   ],
=======
   "execution_count": null,
   "metadata": {},
   "outputs": [],
>>>>>>> upstream/master
   "source": [
    "# Test to see if your function works properly.\n",
    "your_function(1, 5, 10)"
   ]
  }
 ],
 "metadata": {
  "kernelspec": {
   "display_name": "Python 3",
   "language": "python",
   "name": "python3"
  },
  "language_info": {
   "codemirror_mode": {
    "name": "ipython",
    "version": 3
   },
   "file_extension": ".py",
   "mimetype": "text/x-python",
   "name": "python",
   "nbconvert_exporter": "python",
   "pygments_lexer": "ipython3",
<<<<<<< HEAD
   "version": "3.8.8"
=======
   "version": "3.8.5"
>>>>>>> upstream/master
  }
 },
 "nbformat": 4,
 "nbformat_minor": 4
}
