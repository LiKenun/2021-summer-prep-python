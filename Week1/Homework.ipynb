{
 "cells": [
  {
   "cell_type": "code",
   "execution_count": 1,
   "id": "cb514ac7",
   "metadata": {},
   "outputs": [
    {
     "data": {
      "text/plain": [
       "'bloomed'"
      ]
     },
     "execution_count": 1,
     "metadata": {},
     "output_type": "execute_result"
    }
   ],
   "source": [
    "def longest_word(value):\n",
    "    current_longest_length = 0\n",
    "    current_longest_word = None\n",
    "    for word in value.split():\n",
    "        if len(word) > current_longest_length:\n",
    "            current_longest_word = word\n",
    "            current_longest_length = len(word)\n",
    "    return current_longest_word\n",
    "\n",
    "longest_word(\"If a flower bloomed in a dark room, would you trust it?\")"
   ]
  }
 ],
 "metadata": {
  "kernelspec": {
   "display_name": "Python 3",
   "language": "python",
   "name": "python3"
  },
  "language_info": {
   "codemirror_mode": {
    "name": "ipython",
    "version": 3
   },
   "file_extension": ".py",
   "mimetype": "text/x-python",
   "name": "python",
   "nbconvert_exporter": "python",
   "pygments_lexer": "ipython3",
   "version": "3.8.8"
  }
 },
 "nbformat": 4,
 "nbformat_minor": 5
}
